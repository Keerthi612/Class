{
  "nbformat": 4,
  "nbformat_minor": 0,
  "metadata": {
    "colab": {
      "provenance": [],
      "authorship_tag": "ABX9TyMjTBPM9uadJsVybQ2R+dXe",
      "include_colab_link": true
    },
    "kernelspec": {
      "name": "python3",
      "display_name": "Python 3"
    },
    "language_info": {
      "name": "python"
    }
  },
  "cells": [
    {
      "cell_type": "markdown",
      "metadata": {
        "id": "view-in-github",
        "colab_type": "text"
      },
      "source": [
        "<a href=\"https://colab.research.google.com/github/Keerthi612/Class/blob/main/ex3.ipynb\" target=\"_parent\"><img src=\"https://colab.research.google.com/assets/colab-badge.svg\" alt=\"Open In Colab\"/></a>"
      ]
    },
    {
      "cell_type": "code",
      "execution_count": 6,
      "metadata": {
        "colab": {
          "base_uri": "https://localhost:8080/"
        },
        "id": "qKUnAyt4McVQ",
        "outputId": "e4fbd00b-47fc-4816-9ba3-d4669b379e88"
      },
      "outputs": [
        {
          "output_type": "stream",
          "name": "stdout",
          "text": [
            "Pearson's Correlation Coefficient: 0.9999999999999998\n"
          ]
        }
      ],
      "source": [
        "import numpy as np\n",
        "def pearson_correlation(x, y):\n",
        " mean_x = np.mean(x)\n",
        " mean_y = np.mean(y)\n",
        " covariance = np.sum((x - mean_x) * (y - mean_y))\n",
        " std_dev_x = np.sqrt(np.sum((x - mean_x) ** 2))\n",
        " std_dev_y = np.sqrt(np.sum((y - mean_y) ** 2))\n",
        " correlation = covariance / (std_dev_x * std_dev_y)\n",
        " return correlation\n",
        "x = np.array([1, 2, 3, 4, 5])\n",
        "y = np.array([2, 3, 4, 5, 6])\n",
        "print(\"Pearson's Correlation Coefficient:\",pearson_correlation(x, y))"
      ]
    },
    {
      "cell_type": "code",
      "source": [
        "from sklearn.metrics.pairwise import cosine_similarity\n",
        "vector1 = np.array([1, 2, 3])\n",
        "vector2 = np.array([4, 5, 6])\n",
        "cosine_sim = cosine_similarity(vector1.reshape(1,-1),\n",
        "vector2.reshape(1,-1))\n",
        "print(\"Cosine Similarity:\", cosine_sim[0][0])"
      ],
      "metadata": {
        "colab": {
          "base_uri": "https://localhost:8080/"
        },
        "id": "0s9uOy0zPx9D",
        "outputId": "e35eeb5c-ce3d-41f3-bbd0-027a84768c5b"
      },
      "execution_count": 13,
      "outputs": [
        {
          "output_type": "stream",
          "name": "stdout",
          "text": [
            "Cosine Similarity: 0.9746318461970762\n"
          ]
        }
      ]
    },
    {
      "cell_type": "code",
      "source": [
        "def jaccard_similarity(set1, set2):\n",
        " intersection = len(set1.intersection(set2))\n",
        " union = len(set1.union(set2))\n",
        " return intersection / union\n",
        "set1 = set([1, 2, 3])\n",
        "set2 = set([2, 3, 4])\n",
        "print(\"Jaccard Similarity:\",\n",
        "jaccard_similarity(set1, set2))"
      ],
      "metadata": {
        "colab": {
          "base_uri": "https://localhost:8080/"
        },
        "id": "akqXI73sP-cy",
        "outputId": "8c98e86c-a017-4dd7-a2d1-429aa0a0b5ac"
      },
      "execution_count": 14,
      "outputs": [
        {
          "output_type": "stream",
          "name": "stdout",
          "text": [
            "Jaccard Similarity: 0.5\n"
          ]
        }
      ]
    },
    {
      "cell_type": "code",
      "source": [
        "def euclidean_distance(x, y):\n",
        " return np.sqrt(np.sum((x - y) ** 2))\n",
        "point1 = np.array([1, 2, 3])\n",
        "point2 = np.array([4, 5, 6])\n",
        "print(\"Euclidean Distance:\",\n",
        "euclidean_distance(point1, point2))"
      ],
      "metadata": {
        "colab": {
          "base_uri": "https://localhost:8080/"
        },
        "id": "0DIxg3baQTPa",
        "outputId": "c4e82f89-d192-42c9-a883-c607d8c5783b"
      },
      "execution_count": 15,
      "outputs": [
        {
          "output_type": "stream",
          "name": "stdout",
          "text": [
            "Euclidean Distance: 5.196152422706632\n"
          ]
        }
      ]
    },
    {
      "cell_type": "code",
      "source": [],
      "metadata": {
        "id": "2VsQoUk1Qk9j"
      },
      "execution_count": null,
      "outputs": []
    },
    {
      "cell_type": "code",
      "source": [
        "def manhattan_distance(x, y):\n",
        " return np.sum(np.abs(x - y))\n",
        "point1 = np.array([1, 2, 3])\n",
        "point2 = np.array([4, 5, 6])\n",
        "print(\"Manhattan Distance:\",\n",
        "manhattan_distance(point1, point2))"
      ],
      "metadata": {
        "colab": {
          "base_uri": "https://localhost:8080/"
        },
        "id": "bVfrFBFhQlHC",
        "outputId": "302527ac-82a4-4a0a-ab26-45e8bde3fb03"
      },
      "execution_count": 16,
      "outputs": [
        {
          "output_type": "stream",
          "name": "stdout",
          "text": [
            "Manhattan Distance: 9\n"
          ]
        }
      ]
    }
  ]
}