{
  "nbformat": 4,
  "nbformat_minor": 0,
  "metadata": {
    "colab": {
      "provenance": [],
      "authorship_tag": "ABX9TyORavHedP9D98CVDr1Fb+LB",
      "include_colab_link": true
    },
    "kernelspec": {
      "name": "python3",
      "display_name": "Python 3"
    },
    "language_info": {
      "name": "python"
    }
  },
  "cells": [
    {
      "cell_type": "markdown",
      "metadata": {
        "id": "view-in-github",
        "colab_type": "text"
      },
      "source": [
        "<a href=\"https://colab.research.google.com/github/Keerthi612/Class/blob/main/Untitled0.ipynb\" target=\"_parent\"><img src=\"https://colab.research.google.com/assets/colab-badge.svg\" alt=\"Open In Colab\"/></a>"
      ]
    },
    {
      "cell_type": "code",
      "execution_count": 6,
      "metadata": {
        "colab": {
          "base_uri": "https://localhost:8080/"
        },
        "id": "qwWmZU36pjma",
        "outputId": "c7463a5b-2522-462a-fbf7-e432f7f7a059"
      },
      "outputs": [
        {
          "output_type": "execute_result",
          "data": {
            "text/plain": [
              "array([[2],\n",
              "       [5]])"
            ]
          },
          "metadata": {},
          "execution_count": 6
        }
      ],
      "source": [
        "#1) Given a 2D array arr, extract the second column.\n",
        "import numpy as np\n",
        "data=([1,2,3],[4,5,6])\n",
        "arr=np.array(data)\n",
        "arr[:,1:2]"
      ]
    },
    {
      "cell_type": "code",
      "source": [
        "\n",
        "\n",
        "#2) Extract a subarray from a 3x3 matrix that includes the first and second rows and the second and third columns.\n",
        "import numpy as np\n",
        "data=([[[1,2,3],[4,5,6],[7,8,9]],[[7,8,9],[7,5,4],[1,2,3]]])\n",
        "arr=np.array(data)\n",
        "arr[:,:2,1:]"
      ],
      "metadata": {
        "colab": {
          "base_uri": "https://localhost:8080/"
        },
        "id": "5o522tVhpv3M",
        "outputId": "2435afeb-05af-4dd3-e876-db08fd46711f"
      },
      "execution_count": 11,
      "outputs": [
        {
          "output_type": "execute_result",
          "data": {
            "text/plain": [
              "array([[[2, 3],\n",
              "        [5, 6]],\n",
              "\n",
              "       [[8, 9],\n",
              "        [5, 4]]])"
            ]
          },
          "metadata": {},
          "execution_count": 11
        }
      ]
    },
    {
      "cell_type": "code",
      "source": [
        "#Given a 3D array, transpose the first and second dimensions\n",
        "import numpy as np\n",
        "data=([[[1,2,3],[4,5,6],[7,8,9]],[[7,8,9],[7,5,4],[1,2,3]]])\n",
        "arr=np.array(data)\n",
        "arr2=np.transpose(arr,(1,0,2))\n",
        "arr2"
      ],
      "metadata": {
        "colab": {
          "base_uri": "https://localhost:8080/"
        },
        "id": "KuEVq2Vdp4oR",
        "outputId": "36f412e7-d27d-4caf-f2bb-d4cc92626232"
      },
      "execution_count": 14,
      "outputs": [
        {
          "output_type": "execute_result",
          "data": {
            "text/plain": [
              "array([[[1, 2, 3],\n",
              "        [7, 8, 9]],\n",
              "\n",
              "       [[4, 5, 6],\n",
              "        [7, 5, 4]],\n",
              "\n",
              "       [[7, 8, 9],\n",
              "        [1, 2, 3]]])"
            ]
          },
          "metadata": {},
          "execution_count": 14
        }
      ]
    },
    {
      "cell_type": "code",
      "source": [
        "#Transpose a 2D array and then extract a specific row from the transposed result\n",
        "import numpy as np\n",
        "data=([[1,2,3],[4,5,6]])\n",
        "arr=np.array(data)\n",
        "arr2=np.transpose(arr)\n",
        "arr2[1]"
      ],
      "metadata": {
        "colab": {
          "base_uri": "https://localhost:8080/"
        },
        "id": "Y0LfQcILp-Sj",
        "outputId": "09f68abb-ccd9-4f22-9932-ba9511bea2f6"
      },
      "execution_count": 10,
      "outputs": [
        {
          "output_type": "execute_result",
          "data": {
            "text/plain": [
              "array([2, 5])"
            ]
          },
          "metadata": {},
          "execution_count": 10
        }
      ]
    },
    {
      "cell_type": "code",
      "source": [
        "#Given a 3D array, extract a 2x2 matrix from the second \"layer\" (2D array) using appropriate indexing\n",
        "import numpy as np\n",
        "data=([[[1,2,3],[4,5,6],[7,8,9]],[[7,8,9],[7,5,4],[1,2,3]]])\n",
        "arr=np.array(data)\n",
        "arr[0,0:2,0:2]"
      ],
      "metadata": {
        "colab": {
          "base_uri": "https://localhost:8080/"
        },
        "id": "cC7TCrEHqCQe",
        "outputId": "657c0108-e4eb-4a8b-a032-585c3fa31dde"
      },
      "execution_count": 13,
      "outputs": [
        {
          "output_type": "execute_result",
          "data": {
            "text/plain": [
              "array([[1, 2],\n",
              "       [4, 5]])"
            ]
          },
          "metadata": {},
          "execution_count": 13
        }
      ]
    }
  ]
}